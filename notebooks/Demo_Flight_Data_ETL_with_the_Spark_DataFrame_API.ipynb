{
 "cells": [
  {
   "cell_type": "code",
   "execution_count": 0,
   "metadata": {
    "application/vnd.databricks.v1+cell": {
     "cellMetadata": {
      "byteLimit": 2048000,
      "implicitDf": true,
      "rowLimit": 10000
     },
     "inputWidgets": {},
     "nuid": "7b22defd-4878-4c93-916d-cf0f70306004",
     "showTitle": false,
     "tableResultSettingsMap": {},
     "title": ""
    }
   },
   "outputs": [
    {
     "output_type": "display_data",
     "data": {
      "text/html": [
       "<style scoped>\n",
       "  .table-result-container {\n",
       "    max-height: 300px;\n",
       "    overflow: auto;\n",
       "  }\n",
       "  table, th, td {\n",
       "    border: 1px solid black;\n",
       "    border-collapse: collapse;\n",
       "  }\n",
       "  th, td {\n",
       "    padding: 5px;\n",
       "  }\n",
       "  th {\n",
       "    text-align: left;\n",
       "  }\n",
       "</style><div class='table-result-container'><table class='table-result'><thead style='background-color: white'><tr><th>current_catalog()</th><th>current_schema()</th></tr></thead><tbody><tr><td>workspace</td><td>default</td></tr></tbody></table></div>"
      ]
     },
     "metadata": {
      "application/vnd.databricks.v1+output": {
       "addedWidgets": {},
       "aggData": [],
       "aggError": "",
       "aggOverflow": false,
       "aggSchema": [],
       "aggSeriesLimitReached": false,
       "aggType": "",
       "arguments": {},
       "columnCustomDisplayInfos": {},
       "data": [
        [
         "workspace",
         "default"
        ]
       ],
       "datasetInfos": [
        {
         "name": "_sqldf",
         "schema": {
          "fields": [
           {
            "metadata": {},
            "name": "current_catalog()",
            "nullable": false,
            "type": "string"
           },
           {
            "metadata": {},
            "name": "current_schema()",
            "nullable": false,
            "type": "string"
           }
          ],
          "type": "struct"
         },
         "tableIdentifier": null,
         "typeStr": "pyspark.sql.connect.dataframe.DataFrame"
        }
       ],
       "dbfsResultPath": null,
       "isJsonSchema": true,
       "metadata": {
        "createTempViewForImplicitDf": true,
        "dataframeName": "_sqldf",
        "executionCount": 3
       },
       "overflow": false,
       "plotOptions": {
        "customPlotOptions": {},
        "displayType": "table",
        "pivotAggregation": null,
        "pivotColumns": null,
        "xColumns": null,
        "yColumns": null
       },
       "removedWidgets": [],
       "schema": [
        {
         "metadata": "{}",
         "name": "current_catalog()",
         "type": "\"string\""
        },
        {
         "metadata": "{}",
         "name": "current_schema()",
         "type": "\"string\""
        }
       ],
       "type": "table"
      }
     },
     "output_type": "display_data"
    }
   ],
   "source": [
    "%sql\n",
    "SELECT current_catalog(), current_schema()"
   ]
  },
  {
   "cell_type": "code",
   "execution_count": 0,
   "metadata": {
    "application/vnd.databricks.v1+cell": {
     "cellMetadata": {
      "byteLimit": 2048000,
      "rowLimit": 10000
     },
     "inputWidgets": {},
     "nuid": "f8ca653e-c083-4c93-bfb7-4dcb401a69a0",
     "showTitle": false,
     "tableResultSettingsMap": {},
     "title": ""
    }
   },
   "outputs": [],
   "source": [
    "# Read the flights data:\n",
    "flights_df = spark.read.table(\"flights\")"
   ]
  },
  {
   "cell_type": "code",
   "execution_count": 0,
   "metadata": {
    "application/vnd.databricks.v1+cell": {
     "cellMetadata": {
      "byteLimit": 2048000,
      "rowLimit": 10000
     },
     "inputWidgets": {},
     "nuid": "b81b6be6-cba2-4d72-bc96-edb3a92033aa",
     "showTitle": false,
     "tableResultSettingsMap": {},
     "title": ""
    }
   },
   "outputs": [
    {
     "output_type": "stream",
     "name": "stdout",
     "output_type": "stream",
     "text": [
      "root\n |-- id: long (nullable = true)\n |-- year: long (nullable = true)\n |-- month: long (nullable = true)\n |-- day: long (nullable = true)\n |-- dep_time: double (nullable = true)\n |-- sched_dep_time: long (nullable = true)\n |-- dep_delay: double (nullable = true)\n |-- arr_time: double (nullable = true)\n |-- sched_arr_time: long (nullable = true)\n |-- arr_delay: double (nullable = true)\n |-- carrier: string (nullable = true)\n |-- flight: long (nullable = true)\n |-- tailnum: string (nullable = true)\n |-- origin: string (nullable = true)\n |-- dest: string (nullable = true)\n |-- air_time: double (nullable = true)\n |-- distance: long (nullable = true)\n |-- hour: long (nullable = true)\n |-- minute: long (nullable = true)\n |-- time_hour: timestamp (nullable = true)\n |-- name: string (nullable = true)\n\n"
     ]
    }
   ],
   "source": [
    "# Print the schema\n",
    "flights_df.printSchema()"
   ]
  },
  {
   "cell_type": "code",
   "execution_count": 0,
   "metadata": {
    "application/vnd.databricks.v1+cell": {
     "cellMetadata": {
      "byteLimit": 2048000,
      "rowLimit": 10000
     },
     "inputWidgets": {},
     "nuid": "e1ff8958-b663-4310-bbe1-bfd29c897d94",
     "showTitle": false,
     "tableResultSettingsMap": {},
     "title": ""
    }
   },
   "outputs": [
    {
     "output_type": "display_data",
     "data": {
      "text/html": [
       "<style scoped>\n",
       "  .table-result-container {\n",
       "    max-height: 300px;\n",
       "    overflow: auto;\n",
       "  }\n",
       "  table, th, td {\n",
       "    border: 1px solid black;\n",
       "    border-collapse: collapse;\n",
       "  }\n",
       "  th, td {\n",
       "    padding: 5px;\n",
       "  }\n",
       "  th {\n",
       "    text-align: left;\n",
       "  }\n",
       "</style><div class='table-result-container'><table class='table-result'><thead style='background-color: white'><tr><th>id</th><th>year</th><th>month</th><th>day</th><th>dep_time</th><th>sched_dep_time</th><th>dep_delay</th><th>arr_time</th><th>sched_arr_time</th><th>arr_delay</th><th>carrier</th><th>flight</th><th>tailnum</th><th>origin</th><th>dest</th><th>air_time</th><th>distance</th><th>hour</th><th>minute</th><th>time_hour</th><th>name</th></tr></thead><tbody><tr><td>0</td><td>2013</td><td>1</td><td>1</td><td>517.0</td><td>515</td><td>2.0</td><td>830.0</td><td>819</td><td>11.0</td><td>UA</td><td>1545</td><td>N14228</td><td>EWR</td><td>IAH</td><td>227.0</td><td>1400</td><td>5</td><td>15</td><td>2013-01-01T05:00:00.000Z</td><td>United Air Lines Inc.</td></tr><tr><td>1</td><td>2013</td><td>1</td><td>1</td><td>533.0</td><td>529</td><td>4.0</td><td>850.0</td><td>830</td><td>20.0</td><td>UA</td><td>1714</td><td>N24211</td><td>LGA</td><td>IAH</td><td>227.0</td><td>1416</td><td>5</td><td>29</td><td>2013-01-01T05:00:00.000Z</td><td>United Air Lines Inc.</td></tr><tr><td>2</td><td>2013</td><td>1</td><td>1</td><td>542.0</td><td>540</td><td>2.0</td><td>923.0</td><td>850</td><td>33.0</td><td>AA</td><td>1141</td><td>N619AA</td><td>JFK</td><td>MIA</td><td>160.0</td><td>1089</td><td>5</td><td>40</td><td>2013-01-01T05:00:00.000Z</td><td>American Airlines Inc.</td></tr><tr><td>3</td><td>2013</td><td>1</td><td>1</td><td>544.0</td><td>545</td><td>-1.0</td><td>1004.0</td><td>1022</td><td>-18.0</td><td>B6</td><td>725</td><td>N804JB</td><td>JFK</td><td>BQN</td><td>183.0</td><td>1576</td><td>5</td><td>45</td><td>2013-01-01T05:00:00.000Z</td><td>JetBlue Airways</td></tr><tr><td>4</td><td>2013</td><td>1</td><td>1</td><td>554.0</td><td>600</td><td>-6.0</td><td>812.0</td><td>837</td><td>-25.0</td><td>DL</td><td>461</td><td>N668DN</td><td>LGA</td><td>ATL</td><td>116.0</td><td>762</td><td>6</td><td>0</td><td>2013-01-01T06:00:00.000Z</td><td>Delta Air Lines Inc.</td></tr><tr><td>5</td><td>2013</td><td>1</td><td>1</td><td>554.0</td><td>558</td><td>-4.0</td><td>740.0</td><td>728</td><td>12.0</td><td>UA</td><td>1696</td><td>N39463</td><td>EWR</td><td>ORD</td><td>150.0</td><td>719</td><td>5</td><td>58</td><td>2013-01-01T05:00:00.000Z</td><td>United Air Lines Inc.</td></tr><tr><td>6</td><td>2013</td><td>1</td><td>1</td><td>555.0</td><td>600</td><td>-5.0</td><td>913.0</td><td>854</td><td>19.0</td><td>B6</td><td>507</td><td>N516JB</td><td>EWR</td><td>FLL</td><td>158.0</td><td>1065</td><td>6</td><td>0</td><td>2013-01-01T06:00:00.000Z</td><td>JetBlue Airways</td></tr><tr><td>7</td><td>2013</td><td>1</td><td>1</td><td>557.0</td><td>600</td><td>-3.0</td><td>709.0</td><td>723</td><td>-14.0</td><td>EV</td><td>5708</td><td>N829AS</td><td>LGA</td><td>IAD</td><td>53.0</td><td>229</td><td>6</td><td>0</td><td>2013-01-01T06:00:00.000Z</td><td>ExpressJet Airlines Inc.</td></tr><tr><td>8</td><td>2013</td><td>1</td><td>1</td><td>557.0</td><td>600</td><td>-3.0</td><td>838.0</td><td>846</td><td>-8.0</td><td>B6</td><td>79</td><td>N593JB</td><td>JFK</td><td>MCO</td><td>140.0</td><td>944</td><td>6</td><td>0</td><td>2013-01-01T06:00:00.000Z</td><td>JetBlue Airways</td></tr><tr><td>9</td><td>2013</td><td>1</td><td>1</td><td>558.0</td><td>600</td><td>-2.0</td><td>753.0</td><td>745</td><td>8.0</td><td>AA</td><td>301</td><td>N3ALAA</td><td>LGA</td><td>ORD</td><td>138.0</td><td>733</td><td>6</td><td>0</td><td>2013-01-01T06:00:00.000Z</td><td>American Airlines Inc.</td></tr></tbody></table></div>"
      ]
     },
     "metadata": {
      "application/vnd.databricks.v1+output": {
       "addedWidgets": {},
       "aggData": [],
       "aggError": "",
       "aggOverflow": false,
       "aggSchema": [],
       "aggSeriesLimitReached": false,
       "aggType": "",
       "arguments": {},
       "columnCustomDisplayInfos": {},
       "data": [
        [
         0,
         2013,
         1,
         1,
         517.0,
         515,
         2.0,
         830.0,
         819,
         11.0,
         "UA",
         1545,
         "N14228",
         "EWR",
         "IAH",
         227.0,
         1400,
         5,
         15,
         "2013-01-01T05:00:00.000Z",
         "United Air Lines Inc."
        ],
        [
         1,
         2013,
         1,
         1,
         533.0,
         529,
         4.0,
         850.0,
         830,
         20.0,
         "UA",
         1714,
         "N24211",
         "LGA",
         "IAH",
         227.0,
         1416,
         5,
         29,
         "2013-01-01T05:00:00.000Z",
         "United Air Lines Inc."
        ],
        [
         2,
         2013,
         1,
         1,
         542.0,
         540,
         2.0,
         923.0,
         850,
         33.0,
         "AA",
         1141,
         "N619AA",
         "JFK",
         "MIA",
         160.0,
         1089,
         5,
         40,
         "2013-01-01T05:00:00.000Z",
         "American Airlines Inc."
        ],
        [
         3,
         2013,
         1,
         1,
         544.0,
         545,
         -1.0,
         1004.0,
         1022,
         -18.0,
         "B6",
         725,
         "N804JB",
         "JFK",
         "BQN",
         183.0,
         1576,
         5,
         45,
         "2013-01-01T05:00:00.000Z",
         "JetBlue Airways"
        ],
        [
         4,
         2013,
         1,
         1,
         554.0,
         600,
         -6.0,
         812.0,
         837,
         -25.0,
         "DL",
         461,
         "N668DN",
         "LGA",
         "ATL",
         116.0,
         762,
         6,
         0,
         "2013-01-01T06:00:00.000Z",
         "Delta Air Lines Inc."
        ],
        [
         5,
         2013,
         1,
         1,
         554.0,
         558,
         -4.0,
         740.0,
         728,
         12.0,
         "UA",
         1696,
         "N39463",
         "EWR",
         "ORD",
         150.0,
         719,
         5,
         58,
         "2013-01-01T05:00:00.000Z",
         "United Air Lines Inc."
        ],
        [
         6,
         2013,
         1,
         1,
         555.0,
         600,
         -5.0,
         913.0,
         854,
         19.0,
         "B6",
         507,
         "N516JB",
         "EWR",
         "FLL",
         158.0,
         1065,
         6,
         0,
         "2013-01-01T06:00:00.000Z",
         "JetBlue Airways"
        ],
        [
         7,
         2013,
         1,
         1,
         557.0,
         600,
         -3.0,
         709.0,
         723,
         -14.0,
         "EV",
         5708,
         "N829AS",
         "LGA",
         "IAD",
         53.0,
         229,
         6,
         0,
         "2013-01-01T06:00:00.000Z",
         "ExpressJet Airlines Inc."
        ],
        [
         8,
         2013,
         1,
         1,
         557.0,
         600,
         -3.0,
         838.0,
         846,
         -8.0,
         "B6",
         79,
         "N593JB",
         "JFK",
         "MCO",
         140.0,
         944,
         6,
         0,
         "2013-01-01T06:00:00.000Z",
         "JetBlue Airways"
        ],
        [
         9,
         2013,
         1,
         1,
         558.0,
         600,
         -2.0,
         753.0,
         745,
         8.0,
         "AA",
         301,
         "N3ALAA",
         "LGA",
         "ORD",
         138.0,
         733,
         6,
         0,
         "2013-01-01T06:00:00.000Z",
         "American Airlines Inc."
        ]
       ],
       "datasetInfos": [],
       "dbfsResultPath": null,
       "isJsonSchema": true,
       "metadata": {},
       "overflow": false,
       "plotOptions": {
        "customPlotOptions": {},
        "displayType": "table",
        "pivotAggregation": null,
        "pivotColumns": null,
        "xColumns": null,
        "yColumns": null
       },
       "removedWidgets": [],
       "schema": [
        {
         "metadata": "{}",
         "name": "id",
         "type": "\"long\""
        },
        {
         "metadata": "{}",
         "name": "year",
         "type": "\"long\""
        },
        {
         "metadata": "{}",
         "name": "month",
         "type": "\"long\""
        },
        {
         "metadata": "{}",
         "name": "day",
         "type": "\"long\""
        },
        {
         "metadata": "{}",
         "name": "dep_time",
         "type": "\"double\""
        },
        {
         "metadata": "{}",
         "name": "sched_dep_time",
         "type": "\"long\""
        },
        {
         "metadata": "{}",
         "name": "dep_delay",
         "type": "\"double\""
        },
        {
         "metadata": "{}",
         "name": "arr_time",
         "type": "\"double\""
        },
        {
         "metadata": "{}",
         "name": "sched_arr_time",
         "type": "\"long\""
        },
        {
         "metadata": "{}",
         "name": "arr_delay",
         "type": "\"double\""
        },
        {
         "metadata": "{}",
         "name": "carrier",
         "type": "\"string\""
        },
        {
         "metadata": "{}",
         "name": "flight",
         "type": "\"long\""
        },
        {
         "metadata": "{}",
         "name": "tailnum",
         "type": "\"string\""
        },
        {
         "metadata": "{}",
         "name": "origin",
         "type": "\"string\""
        },
        {
         "metadata": "{}",
         "name": "dest",
         "type": "\"string\""
        },
        {
         "metadata": "{}",
         "name": "air_time",
         "type": "\"double\""
        },
        {
         "metadata": "{}",
         "name": "distance",
         "type": "\"long\""
        },
        {
         "metadata": "{}",
         "name": "hour",
         "type": "\"long\""
        },
        {
         "metadata": "{}",
         "name": "minute",
         "type": "\"long\""
        },
        {
         "metadata": "{}",
         "name": "time_hour",
         "type": "\"timestamp\""
        },
        {
         "metadata": "{}",
         "name": "name",
         "type": "\"string\""
        }
       ],
       "type": "table"
      }
     },
     "output_type": "display_data"
    }
   ],
   "source": [
    "# View the data\n",
    "display(flights_df.limit(10))"
   ]
  },
  {
   "cell_type": "code",
   "execution_count": 0,
   "metadata": {
    "application/vnd.databricks.v1+cell": {
     "cellMetadata": {
      "byteLimit": 2048000,
      "rowLimit": 10000
     },
     "inputWidgets": {},
     "nuid": "f082ddff-54a6-49d3-afda-b3d9230ddc0a",
     "showTitle": false,
     "tableResultSettingsMap": {},
     "title": ""
    }
   },
   "outputs": [
    {
     "output_type": "stream",
     "name": "stdout",
     "output_type": "stream",
     "text": [
      "<class 'pyspark.sql.connect.dataframe.DataFrame'>\n"
     ]
    }
   ],
   "source": [
    "print(type(flights_df))"
   ]
  },
  {
   "cell_type": "code",
   "execution_count": 0,
   "metadata": {
    "application/vnd.databricks.v1+cell": {
     "cellMetadata": {
      "byteLimit": 2048000,
      "rowLimit": 10000
     },
     "inputWidgets": {},
     "nuid": "abd2da75-03f7-4e9e-a887-c185bd826f8b",
     "showTitle": false,
     "tableResultSettingsMap": {},
     "title": ""
    }
   },
   "outputs": [
    {
     "output_type": "stream",
     "name": "stdout",
     "output_type": "stream",
     "text": [
      "['id', 'year', 'month', 'day', 'dep_time', 'sched_dep_time', 'dep_delay', 'arr_time', 'sched_arr_time', 'arr_delay', 'carrier', 'flight', 'tailnum', 'origin', 'dest', 'air_time', 'distance', 'hour', 'minute', 'time_hour', 'name']\n"
     ]
    }
   ],
   "source": [
    "# Printing the columns\n",
    "print(flights_df.columns)"
   ]
  },
  {
   "cell_type": "code",
   "execution_count": 0,
   "metadata": {
    "application/vnd.databricks.v1+cell": {
     "cellMetadata": {
      "byteLimit": 2048000,
      "rowLimit": 10000
     },
     "inputWidgets": {},
     "nuid": "9ac2a4bc-90fa-48a8-a57c-902552bf93ac",
     "showTitle": false,
     "tableResultSettingsMap": {},
     "title": ""
    }
   },
   "outputs": [
    {
     "output_type": "stream",
     "name": "stdout",
     "output_type": "stream",
     "text": [
      "Source data has 336776 records\n"
     ]
    }
   ],
   "source": [
    "initial_count = flights_df.count()\n",
    "\n",
    "print(f\"Source data has {initial_count} records\")"
   ]
  },
  {
   "cell_type": "code",
   "execution_count": 0,
   "metadata": {
    "application/vnd.databricks.v1+cell": {
     "cellMetadata": {
      "byteLimit": 2048000,
      "rowLimit": 10000
     },
     "inputWidgets": {},
     "nuid": "db15a0e6-bae1-456f-920f-dd180246bd26",
     "showTitle": false,
     "tableResultSettingsMap": {},
     "title": ""
    }
   },
   "outputs": [],
   "source": [
    "# Creating a temporary view in Spark SQL\n",
    "flights_df \\\n",
    "    .selectExpr(\n",
    "        \"id as ID\",\n",
    "        \"year as Year\",\n",
    "        \"month as Month\",\n",
    "        \"day AS Day \",\n",
    "        \"CAST(dep_time AS INTEGER) as DepTime\",\n",
    "        \"sched_dep_time AS SchedDepTime\",\n",
    "        \"dep_delay AS DepDelay\",\n",
    "        \"CAST(arr_time AS INTEGER) as ArrTime\",\n",
    "        \"sched_arr_time AS SchedArrTime\",\n",
    "        \"arr_delay AS ArrDelay\",\n",
    "        \"carrier as Carrier\",\n",
    "        \"flight as Flight\",\n",
    "        \"tailnum as TailNum\",\n",
    "        \"origin as Origin\",\n",
    "        \"dest as Dest\",\n",
    "        \"air_time AS AirTime\",\n",
    "        \"distance AS Distance\",\n",
    "    ) \\\n",
    "    .createOrReplaceTempView(\"flights_temp\")"
   ]
  },
  {
   "cell_type": "code",
   "execution_count": 0,
   "metadata": {
    "application/vnd.databricks.v1+cell": {
     "cellMetadata": {
      "byteLimit": 2048000,
      "rowLimit": 10000
     },
     "inputWidgets": {},
     "nuid": "d81b6364-4d5f-49ce-b0a6-d155ef542072",
     "showTitle": false,
     "tableResultSettingsMap": {},
     "title": ""
    }
   },
   "outputs": [
    {
     "output_type": "display_data",
     "data": {
      "text/html": [
       "<style scoped>\n",
       "  .table-result-container {\n",
       "    max-height: 300px;\n",
       "    overflow: auto;\n",
       "  }\n",
       "  table, th, td {\n",
       "    border: 1px solid black;\n",
       "    border-collapse: collapse;\n",
       "  }\n",
       "  th, td {\n",
       "    padding: 5px;\n",
       "  }\n",
       "  th {\n",
       "    text-align: left;\n",
       "  }\n",
       "</style><div class='table-result-container'><table class='table-result'><thead style='background-color: white'><tr><th>NullYearCount</th><th>NullMonthCount</th><th>NullDayCount</th><th>NullDepTimeCount</th><th>NullSchedDepTimeCount</th><th>NullDepDelayCount</th><th>NullArrTimeCount</th><th>NullSchedArrTimeCount</th><th>NullArrDelayCount</th><th>NullCarrierCount</th><th>NullFlightCount</th><th>NullTailNumCount</th><th>NullOriginCount</th><th>NullDestCount</th><th>NullAirTimeCount</th><th>NullDistanceCount</th></tr></thead><tbody><tr><td>0</td><td>0</td><td>0</td><td>8255</td><td>0</td><td>8255</td><td>8713</td><td>0</td><td>9430</td><td>0</td><td>0</td><td>2512</td><td>0</td><td>0</td><td>9430</td><td>0</td></tr></tbody></table></div>"
      ]
     },
     "metadata": {
      "application/vnd.databricks.v1+output": {
       "addedWidgets": {},
       "aggData": [],
       "aggError": "",
       "aggOverflow": false,
       "aggSchema": [],
       "aggSeriesLimitReached": false,
       "aggType": "",
       "arguments": {},
       "columnCustomDisplayInfos": {},
       "data": [
        [
         0,
         0,
         0,
         8255,
         0,
         8255,
         8713,
         0,
         9430,
         0,
         0,
         2512,
         0,
         0,
         9430,
         0
        ]
       ],
       "datasetInfos": [],
       "dbfsResultPath": null,
       "isJsonSchema": true,
       "metadata": {},
       "overflow": false,
       "plotOptions": {
        "customPlotOptions": {},
        "displayType": "table",
        "pivotAggregation": null,
        "pivotColumns": null,
        "xColumns": null,
        "yColumns": null
       },
       "removedWidgets": [],
       "schema": [
        {
         "metadata": "{}",
         "name": "NullYearCount",
         "type": "\"long\""
        },
        {
         "metadata": "{}",
         "name": "NullMonthCount",
         "type": "\"long\""
        },
        {
         "metadata": "{}",
         "name": "NullDayCount",
         "type": "\"long\""
        },
        {
         "metadata": "{}",
         "name": "NullDepTimeCount",
         "type": "\"long\""
        },
        {
         "metadata": "{}",
         "name": "NullSchedDepTimeCount",
         "type": "\"long\""
        },
        {
         "metadata": "{}",
         "name": "NullDepDelayCount",
         "type": "\"long\""
        },
        {
         "metadata": "{}",
         "name": "NullArrTimeCount",
         "type": "\"long\""
        },
        {
         "metadata": "{}",
         "name": "NullSchedArrTimeCount",
         "type": "\"long\""
        },
        {
         "metadata": "{}",
         "name": "NullArrDelayCount",
         "type": "\"long\""
        },
        {
         "metadata": "{}",
         "name": "NullCarrierCount",
         "type": "\"long\""
        },
        {
         "metadata": "{}",
         "name": "NullFlightCount",
         "type": "\"long\""
        },
        {
         "metadata": "{}",
         "name": "NullTailNumCount",
         "type": "\"long\""
        },
        {
         "metadata": "{}",
         "name": "NullOriginCount",
         "type": "\"long\""
        },
        {
         "metadata": "{}",
         "name": "NullDestCount",
         "type": "\"long\""
        },
        {
         "metadata": "{}",
         "name": "NullAirTimeCount",
         "type": "\"long\""
        },
        {
         "metadata": "{}",
         "name": "NullDistanceCount",
         "type": "\"long\""
        }
       ],
       "type": "table"
      }
     },
     "output_type": "display_data"
    }
   ],
   "source": [
    "# Using Spark SQL to count null values:\n",
    "invalid_counts = spark.sql(\"\"\"\n",
    "    SELECT\n",
    "        COUNT_IF(Year IS NULL) AS NullYearCount,\n",
    "        COUNT_IF(Month IS NULL) AS NullMonthCount,\n",
    "        COUNT_IF(Day IS NULL) AS NullDayCount,\n",
    "        COUNT_IF(DepTime IS NULL) AS NullDepTimeCount,\n",
    "        COUNT_IF(SchedDepTime IS NULL) AS NullSchedDepTimeCount,\n",
    "        COUNT_IF(DepDelay IS NULL) AS NullDepDelayCount,\n",
    "        COUNT_IF(ArrTime IS NULL) AS NullArrTimeCount,\n",
    "        COUNT_IF(SchedArrTime IS NULL) AS NullSchedArrTimeCount,\n",
    "        COUNT_IF(ArrDelay IS NULL) AS NullArrDelayCount,\n",
    "        COUNT_IF(Carrier IS NULL) AS NullCarrierCount,\n",
    "        COUNT_IF(Flight IS NULL) AS NullFlightCount,\n",
    "        COUNT_IF(TailNum IS NULL) AS NullTailNumCount,\n",
    "        COUNT_IF(Origin IS NULL) AS NullOriginCount,\n",
    "        COUNT_IF(Dest IS NULL) AS NullDestCount,\n",
    "        COUNT_IF(AirTime IS NULL) AS NullAirTimeCount,\n",
    "        COUNT_IF(Distance IS NULL) AS NullDistanceCount\n",
    "    FROM flights_temp\n",
    "\"\"\")\n",
    "\n",
    "display(invalid_counts)"
   ]
  },
  {
   "cell_type": "markdown",
   "metadata": {
    "application/vnd.databricks.v1+cell": {
     "cellMetadata": {},
     "inputWidgets": {},
     "nuid": "8166557a-9128-4d83-bd3c-4153edafcffe",
     "showTitle": false,
     "tableResultSettingsMap": {},
     "title": ""
    }
   },
   "source": [
    "## Comparing Spark SQL statements to DataFrame API Operations:\n",
    "---\n",
    "\n",
    "Spark SQL DataFrame queries and their equivalent operations in the DataFrame API are evaluated to the same physical plans, let's prove this."
   ]
  },
  {
   "cell_type": "code",
   "execution_count": 0,
   "metadata": {
    "application/vnd.databricks.v1+cell": {
     "cellMetadata": {
      "byteLimit": 2048000,
      "rowLimit": 10000
     },
     "inputWidgets": {},
     "nuid": "d93ec59e-ede0-4bb3-8ca0-144e72537cd3",
     "showTitle": false,
     "tableResultSettingsMap": {},
     "title": ""
    }
   },
   "outputs": [
    {
     "output_type": "display_data",
     "data": {
      "text/html": [
       "<style scoped>\n",
       "  .table-result-container {\n",
       "    max-height: 300px;\n",
       "    overflow: auto;\n",
       "  }\n",
       "  table, th, td {\n",
       "    border: 1px solid black;\n",
       "    border-collapse: collapse;\n",
       "  }\n",
       "  th, td {\n",
       "    padding: 5px;\n",
       "  }\n",
       "  th {\n",
       "    text-align: left;\n",
       "  }\n",
       "</style><div class='table-result-container'><table class='table-result'><thead style='background-color: white'><tr><th>NullYearCount</th><th>NullMonthCount</th><th>NullDayCount</th><th>NullDepTimeCount</th><th>NullSchedDepTimeCount</th><th>NullDepDelayCount</th><th>NullArrTimeCount</th><th>NullSchedArrTimeCount</th><th>NullArrDelayCount</th><th>NullCarrierCount</th><th>NullFlightCount</th><th>NullTailNumCount</th><th>NullOriginCount</th><th>NullDestCount</th><th>NullAirTimeCount</th><th>NullDistanceCount</th></tr></thead><tbody><tr><td>0</td><td>0</td><td>0</td><td>8255</td><td>0</td><td>8255</td><td>8713</td><td>0</td><td>9430</td><td>0</td><td>0</td><td>2512</td><td>0</td><td>0</td><td>9430</td><td>0</td></tr></tbody></table></div>"
      ]
     },
     "metadata": {
      "application/vnd.databricks.v1+output": {
       "addedWidgets": {},
       "aggData": [],
       "aggError": "",
       "aggOverflow": false,
       "aggSchema": [],
       "aggSeriesLimitReached": false,
       "aggType": "",
       "arguments": {},
       "columnCustomDisplayInfos": {},
       "data": [
        [
         0,
         0,
         0,
         8255,
         0,
         8255,
         8713,
         0,
         9430,
         0,
         0,
         2512,
         0,
         0,
         9430,
         0
        ]
       ],
       "datasetInfos": [],
       "dbfsResultPath": null,
       "isJsonSchema": true,
       "metadata": {},
       "overflow": false,
       "plotOptions": {
        "customPlotOptions": {},
        "displayType": "table",
        "pivotAggregation": null,
        "pivotColumns": null,
        "xColumns": null,
        "yColumns": null
       },
       "removedWidgets": [],
       "schema": [
        {
         "metadata": "{}",
         "name": "NullYearCount",
         "type": "\"long\""
        },
        {
         "metadata": "{}",
         "name": "NullMonthCount",
         "type": "\"long\""
        },
        {
         "metadata": "{}",
         "name": "NullDayCount",
         "type": "\"long\""
        },
        {
         "metadata": "{}",
         "name": "NullDepTimeCount",
         "type": "\"long\""
        },
        {
         "metadata": "{}",
         "name": "NullSchedDepTimeCount",
         "type": "\"long\""
        },
        {
         "metadata": "{}",
         "name": "NullDepDelayCount",
         "type": "\"long\""
        },
        {
         "metadata": "{}",
         "name": "NullArrTimeCount",
         "type": "\"long\""
        },
        {
         "metadata": "{}",
         "name": "NullSchedArrTimeCount",
         "type": "\"long\""
        },
        {
         "metadata": "{}",
         "name": "NullArrDelayCount",
         "type": "\"long\""
        },
        {
         "metadata": "{}",
         "name": "NullCarrierCount",
         "type": "\"long\""
        },
        {
         "metadata": "{}",
         "name": "NullFlightCount",
         "type": "\"long\""
        },
        {
         "metadata": "{}",
         "name": "NullTailNumCount",
         "type": "\"long\""
        },
        {
         "metadata": "{}",
         "name": "NullOriginCount",
         "type": "\"long\""
        },
        {
         "metadata": "{}",
         "name": "NullDestCount",
         "type": "\"long\""
        },
        {
         "metadata": "{}",
         "name": "NullAirTimeCount",
         "type": "\"long\""
        },
        {
         "metadata": "{}",
         "name": "NullDistanceCount",
         "type": "\"long\""
        }
       ],
       "type": "table"
      }
     },
     "output_type": "display_data"
    }
   ],
   "source": [
    "# This is the equivalent of the preceding Spark SQL query using the DataFrame API \n",
    "from pyspark.sql.functions import col, sum, when\n",
    "\n",
    "# Make sure to work with the same temporary view that the SQL is using\n",
    "flights_temp_df = spark.table(\"flights_temp\")\n",
    "\n",
    "# Use DataFrame API to count null values\n",
    "invalid_counts_df = flights_temp_df.select(\n",
    "  sum(when(col(\"Year\").isNull(), 1).otherwise(0)).alias(\"NullYearCount\"),\n",
    "  sum(when(col(\"Month\").isNull(), 1).otherwise(0)).alias(\"NullMonthCount\"),\n",
    "  sum(when(col(\"Day\").isNull(), 1).otherwise(0)).alias(\"NullDayCount\"),\n",
    "  sum(when(col(\"DepTime\").isNull(), 1).otherwise(0)).alias(\"NullDepTimeCount\"),\n",
    "  sum(when(col(\"SchedDepTime\").isNull(), 1).otherwise(0)).alias(\"NullSchedDepTimeCount\"),\n",
    "  sum(when(col(\"DepDelay\").isNull(), 1).otherwise(0)).alias(\"NullDepDelayCount\"),\n",
    "  sum(when(col(\"ArrTime\").isNull(), 1).otherwise(0)).alias(\"NullArrTimeCount\"),\n",
    "  sum(when(col(\"SchedArrTime\").isNull(), 1).otherwise(0)).alias(\"NullSchedArrTimeCount\"),\n",
    "  sum(when(col(\"ArrDelay\").isNull(), 1).otherwise(0)).alias(\"NullArrDelayCount\"),\n",
    "  sum(when(col(\"Carrier\").isNull(), 1).otherwise(0)).alias(\"NullCarrierCount\"),\n",
    "  sum(when(col(\"Flight\").isNull(), 1).otherwise(0)).alias(\"NullFlightCount\"),\n",
    "  sum(when(col(\"TailNum\").isNull(), 1).otherwise(0)).alias(\"NullTailNumCount\"),\n",
    "  sum(when(col(\"Origin\").isNull(), 1).otherwise(0)).alias(\"NullOriginCount\"),\n",
    "  sum(when(col(\"Dest\").isNull(), 1).otherwise(0)).alias(\"NullDestCount\"),\n",
    "  sum(when(col(\"AirTime\").isNull(), 1).otherwise(0)).alias(\"NullAirTimeCount\"),\n",
    "  sum(when(col(\"Distance\").isNull(), 1).otherwise(0)).alias(\"NullDistanceCount\")\n",
    ")\n",
    "\n",
    "display(invalid_counts_df)"
   ]
  },
  {
   "cell_type": "code",
   "execution_count": 0,
   "metadata": {
    "application/vnd.databricks.v1+cell": {
     "cellMetadata": {
      "byteLimit": 2048000,
      "rowLimit": 10000
     },
     "inputWidgets": {},
     "nuid": "03ab141c-fc1c-4338-ad02-b1fe33c830e3",
     "showTitle": false,
     "tableResultSettingsMap": {},
     "title": ""
    }
   },
   "outputs": [
    {
     "output_type": "stream",
     "name": "stdout",
     "output_type": "stream",
     "text": [
      "== Physical Plan ==\nAdaptiveSparkPlan isFinalPlan=false\n+- == Initial Plan ==\n   ColumnarToRow\n   +- PhotonResultStage\n      +- PhotonAgg(keys=[], functions=[finalmerge_count(merge count#12070L) AS count(if (isnotnull(Year#11035L)) null else isnull(Year#11035L))#12037L, finalmerge_count(merge count#12072L) AS count(if (isnotnull(Month#11036L)) null else isnull(Month#11036L))#12038L, finalmerge_count(merge count#12074L) AS count(if (isnotnull(Day#11037L)) null else isnull(Day#11037L))#12039L, finalmerge_count(merge count#12076L) AS count(if (isnotnull(DepTime#11038)) null else isnull(DepTime#11038))#12040L, finalmerge_count(merge count#12078L) AS count(if (isnotnull(SchedDepTime#11039L)) null else isnull(SchedDepTime#11039L))#12041L, finalmerge_count(merge count#12080L) AS count(if (isnotnull(DepDelay#11040)) null else isnull(DepDelay#11040))#12042L, finalmerge_count(merge count#12082L) AS count(if (isnotnull(ArrTime#11041)) null else isnull(ArrTime#11041))#12043L, finalmerge_count(merge count#12084L) AS count(if (isnotnull(SchedArrTime#11042L)) null else isnull(SchedArrTime#11042L))#12044L, finalmerge_count(merge count#12086L) AS count(if (isnotnull(ArrDelay#11043)) null else isnull(ArrDelay#11043))#12045L, finalmerge_count(merge count#12088L) AS count(if (isnotnull(Carrier#11044)) null else isnull(Carrier#11044))#12046L, finalmerge_count(merge count#12090L) AS count(if (isnotnull(Flight#11045L)) null else isnull(Flight#11045L))#12047L, finalmerge_count(merge count#12092L) AS count(if (isnotnull(TailNum#11046)) null else isnull(TailNum#11046))#12048L, finalmerge_count(merge count#12094L) AS count(if (isnotnull(Origin#11047)) null else isnull(Origin#11047))#12049L, finalmerge_count(merge count#12096L) AS count(if (isnotnull(Dest#11048)) null else isnull(Dest#11048))#12050L, finalmerge_count(merge count#12098L) AS count(if (isnotnull(AirTime#11049)) null else isnull(AirTime#11049))#12051L, finalmerge_count(merge count#12100L) AS count(if (isnotnull(Distance#11050L)) null else isnull(Distance#11050L))#12052L])\n         +- PhotonShuffleExchangeSource\n            +- PhotonShuffleMapStage\n               +- PhotonShuffleExchangeSink SinglePartition\n                  +- PhotonAgg(keys=[], functions=[partial_count(if (isnotnull(Year#11035L)) null else isnull(Year#11035L)) AS count#12070L, partial_count(if (isnotnull(Month#11036L)) null else isnull(Month#11036L)) AS count#12072L, partial_count(if (isnotnull(Day#11037L)) null else isnull(Day#11037L)) AS count#12074L, partial_count(if (isnotnull(DepTime#11038)) null else isnull(DepTime#11038)) AS count#12076L, partial_count(if (isnotnull(SchedDepTime#11039L)) null else isnull(SchedDepTime#11039L)) AS count#12078L, partial_count(if (isnotnull(DepDelay#11040)) null else isnull(DepDelay#11040)) AS count#12080L, partial_count(if (isnotnull(ArrTime#11041)) null else isnull(ArrTime#11041)) AS count#12082L, partial_count(if (isnotnull(SchedArrTime#11042L)) null else isnull(SchedArrTime#11042L)) AS count#12084L, partial_count(if (isnotnull(ArrDelay#11043)) null else isnull(ArrDelay#11043)) AS count#12086L, partial_count(if (isnotnull(Carrier#11044)) null else isnull(Carrier#11044)) AS count#12088L, partial_count(if (isnotnull(Flight#11045L)) null else isnull(Flight#11045L)) AS count#12090L, partial_count(if (isnotnull(TailNum#11046)) null else isnull(TailNum#11046)) AS count#12092L, partial_count(if (isnotnull(Origin#11047)) null else isnull(Origin#11047)) AS count#12094L, partial_count(if (isnotnull(Dest#11048)) null else isnull(Dest#11048)) AS count#12096L, partial_count(if (isnotnull(AirTime#11049)) null else isnull(AirTime#11049)) AS count#12098L, partial_count(if (isnotnull(Distance#11050L)) null else isnull(Distance#11050L)) AS count#12100L])\n                     +- PhotonProject [year#11073L AS Year#11035L, month#11074L AS Month#11036L, day#11075L AS Day#11037L, cast(dep_time#11076 as int) AS DepTime#11038, sched_dep_time#11077L AS SchedDepTime#11039L, dep_delay#11078 AS DepDelay#11040, cast(arr_time#11079 as int) AS ArrTime#11041, sched_arr_time#11080L AS SchedArrTime#11042L, arr_delay#11081 AS ArrDelay#11043, carrier#11082 AS Carrier#11044, flight#11083L AS Flight#11045L, tailnum#11084 AS TailNum#11046, origin#11085 AS Origin#11047, dest#11086 AS Dest#11048, air_time#11087 AS AirTime#11049, distance#11088L AS Distance#11050L]\n                        +- PhotonScan parquet workspace.default.flights[year#11073L,month#11074L,day#11075L,dep_time#11076,sched_dep_time#11077L,dep_delay#11078,arr_time#11079,sched_arr_time#11080L,arr_delay#11081,carrier#11082,flight#11083L,tailnum#11084,origin#11085,dest#11086,air_time#11087,distance#11088L] DataFilters: [], DictionaryFilters: [], Format: parquet, Location: PreparedDeltaFileIndex(1 paths)[s3://dbstorage-prod-zzuxt/uc/4fd909f7-acd4-4f74-94de-3eb61ce5de83..., OptionalDataFilters: [], PartitionFilters: [], ReadSchema: struct<year:bigint,month:bigint,day:bigint,dep_time:double,sched_dep_time:bigint,dep_delay:double..., RequiredDataFilters: []\n\n\n== Photon Explanation ==\nThe query is fully supported by Photon.\n== Optimizer Statistics (table names per statistics state) ==\n  missing = \n  partial = \n  full    = flights\n\nNone\n== Physical Plan ==\nAdaptiveSparkPlan isFinalPlan=false\n+- == Initial Plan ==\n   ColumnarToRow\n   +- PhotonResultStage\n      +- PhotonAgg(keys=[], functions=[finalmerge_sum(merge sum#12232L) AS sum(CASE WHEN isnull(Year#11035L) THEN 1 ELSE 0 END)#12199L, finalmerge_sum(merge sum#12234L) AS sum(CASE WHEN isnull(Month#11036L) THEN 1 ELSE 0 END)#12200L, finalmerge_sum(merge sum#12236L) AS sum(CASE WHEN isnull(Day#11037L) THEN 1 ELSE 0 END)#12201L, finalmerge_sum(merge sum#12238L) AS sum(CASE WHEN isnull(DepTime#11038) THEN 1 ELSE 0 END)#12202L, finalmerge_sum(merge sum#12240L) AS sum(CASE WHEN isnull(SchedDepTime#11039L) THEN 1 ELSE 0 END)#12203L, finalmerge_sum(merge sum#12242L) AS sum(CASE WHEN isnull(DepDelay#11040) THEN 1 ELSE 0 END)#12204L, finalmerge_sum(merge sum#12244L) AS sum(CASE WHEN isnull(ArrTime#11041) THEN 1 ELSE 0 END)#12205L, finalmerge_sum(merge sum#12246L) AS sum(CASE WHEN isnull(SchedArrTime#11042L) THEN 1 ELSE 0 END)#12206L, finalmerge_sum(merge sum#12248L) AS sum(CASE WHEN isnull(ArrDelay#11043) THEN 1 ELSE 0 END)#12207L, finalmerge_sum(merge sum#12250L) AS sum(CASE WHEN isnull(Carrier#11044) THEN 1 ELSE 0 END)#12208L, finalmerge_sum(merge sum#12252L) AS sum(CASE WHEN isnull(Flight#11045L) THEN 1 ELSE 0 END)#12209L, finalmerge_sum(merge sum#12254L) AS sum(CASE WHEN isnull(TailNum#11046) THEN 1 ELSE 0 END)#12210L, finalmerge_sum(merge sum#12256L) AS sum(CASE WHEN isnull(Origin#11047) THEN 1 ELSE 0 END)#12211L, finalmerge_sum(merge sum#12258L) AS sum(CASE WHEN isnull(Dest#11048) THEN 1 ELSE 0 END)#12212L, finalmerge_sum(merge sum#12260L) AS sum(CASE WHEN isnull(AirTime#11049) THEN 1 ELSE 0 END)#12213L, finalmerge_sum(merge sum#12262L) AS sum(CASE WHEN isnull(Distance#11050L) THEN 1 ELSE 0 END)#12214L])\n         +- PhotonShuffleExchangeSource\n            +- PhotonShuffleMapStage\n               +- PhotonShuffleExchangeSink SinglePartition\n                  +- PhotonAgg(keys=[], functions=[partial_sum(CASE WHEN isnull(Year#11035L) THEN 1 ELSE 0 END) AS sum#12232L, partial_sum(CASE WHEN isnull(Month#11036L) THEN 1 ELSE 0 END) AS sum#12234L, partial_sum(CASE WHEN isnull(Day#11037L) THEN 1 ELSE 0 END) AS sum#12236L, partial_sum(CASE WHEN isnull(DepTime#11038) THEN 1 ELSE 0 END) AS sum#12238L, partial_sum(CASE WHEN isnull(SchedDepTime#11039L) THEN 1 ELSE 0 END) AS sum#12240L, partial_sum(CASE WHEN isnull(DepDelay#11040) THEN 1 ELSE 0 END) AS sum#12242L, partial_sum(CASE WHEN isnull(ArrTime#11041) THEN 1 ELSE 0 END) AS sum#12244L, partial_sum(CASE WHEN isnull(SchedArrTime#11042L) THEN 1 ELSE 0 END) AS sum#12246L, partial_sum(CASE WHEN isnull(ArrDelay#11043) THEN 1 ELSE 0 END) AS sum#12248L, partial_sum(CASE WHEN isnull(Carrier#11044) THEN 1 ELSE 0 END) AS sum#12250L, partial_sum(CASE WHEN isnull(Flight#11045L) THEN 1 ELSE 0 END) AS sum#12252L, partial_sum(CASE WHEN isnull(TailNum#11046) THEN 1 ELSE 0 END) AS sum#12254L, partial_sum(CASE WHEN isnull(Origin#11047) THEN 1 ELSE 0 END) AS sum#12256L, partial_sum(CASE WHEN isnull(Dest#11048) THEN 1 ELSE 0 END) AS sum#12258L, partial_sum(CASE WHEN isnull(AirTime#11049) THEN 1 ELSE 0 END) AS sum#12260L, partial_sum(CASE WHEN isnull(Distance#11050L) THEN 1 ELSE 0 END) AS sum#12262L])\n                     +- PhotonProject [year#11073L AS Year#11035L, month#11074L AS Month#11036L, day#11075L AS Day#11037L, cast(dep_time#11076 as int) AS DepTime#11038, sched_dep_time#11077L AS SchedDepTime#11039L, dep_delay#11078 AS DepDelay#11040, cast(arr_time#11079 as int) AS ArrTime#11041, sched_arr_time#11080L AS SchedArrTime#11042L, arr_delay#11081 AS ArrDelay#11043, carrier#11082 AS Carrier#11044, flight#11083L AS Flight#11045L, tailnum#11084 AS TailNum#11046, origin#11085 AS Origin#11047, dest#11086 AS Dest#11048, air_time#11087 AS AirTime#11049, distance#11088L AS Distance#11050L]\n                        +- PhotonScan parquet workspace.default.flights[year#11073L,month#11074L,day#11075L,dep_time#11076,sched_dep_time#11077L,dep_delay#11078,arr_time#11079,sched_arr_time#11080L,arr_delay#11081,carrier#11082,flight#11083L,tailnum#11084,origin#11085,dest#11086,air_time#11087,distance#11088L] DataFilters: [], DictionaryFilters: [], Format: parquet, Location: PreparedDeltaFileIndex(1 paths)[s3://dbstorage-prod-zzuxt/uc/4fd909f7-acd4-4f74-94de-3eb61ce5de83..., OptionalDataFilters: [], PartitionFilters: [], ReadSchema: struct<year:bigint,month:bigint,day:bigint,dep_time:double,sched_dep_time:bigint,dep_delay:double..., RequiredDataFilters: []\n\n\n== Photon Explanation ==\nThe query is fully supported by Photon.\n== Optimizer Statistics (table names per statistics state) ==\n  missing = \n  partial = \n  full    = flights\n\nNone\n"
     ]
    }
   ],
   "source": [
    "# Get the query plan for the Spark SQL\n",
    "sql_plan = invalid_counts.explain()\n",
    "print(sql_plan)\n",
    "\n",
    "# Get the query plan for the DataFrame\n",
    "df_plan = invalid_counts_df.explain()\n",
    "print(df_plan)"
   ]
  },
  {
   "cell_type": "code",
   "execution_count": 0,
   "metadata": {
    "application/vnd.databricks.v1+cell": {
     "cellMetadata": {
      "byteLimit": 2048000,
      "rowLimit": 10000
     },
     "inputWidgets": {},
     "nuid": "06091f48-8be1-4de5-b43f-e6dab7da8fe5",
     "showTitle": false,
     "tableResultSettingsMap": {},
     "title": ""
    }
   },
   "outputs": [
    {
     "output_type": "execute_result",
     "data": {
      "text/plain": [
       "True"
      ]
     },
     "execution_count": 65,
     "metadata": {},
     "output_type": "execute_result"
    }
   ],
   "source": [
    "# Proof that they are equal\n",
    "sql_plan == df_plan"
   ]
  },
  {
   "cell_type": "markdown",
   "metadata": {
    "application/vnd.databricks.v1+cell": {
     "cellMetadata": {},
     "inputWidgets": {},
     "nuid": "57315e5c-ced3-41e6-b97c-3bf44e154b8a",
     "showTitle": false,
     "tableResultSettingsMap": {},
     "title": ""
    }
   },
   "source": [
    "## Using the Databricks AI Assistant\n",
    "---\n",
    "\n",
    "The Databricks AI Assistant feature can be used to generate code or to visualize metrics from DataFrames, from the code cell below click on the **generate link** and enter:\n",
    "```\n",
    "generate a bar chart showing nulls for each column in the flights_temp_df dataframe\n",
    "```"
   ]
  },
  {
   "cell_type": "code",
   "execution_count": 0,
   "metadata": {
    "application/vnd.databricks.v1+cell": {
     "cellMetadata": {
      "byteLimit": 2048000,
      "rowLimit": 10000
     },
     "inputWidgets": {},
     "nuid": "dd91c8f8-9310-4843-93f6-79fee7080c00",
     "showTitle": false,
     "tableResultSettingsMap": {},
     "title": ""
    }
   },
   "outputs": [
    {
     "output_type": "display_data",
     "data": {
      "image/png": "[encoded data removed]",
      "text/plain": [
       "<Figure size 1000x600 with 1 Axes>"
      ]
     },
     "metadata": {},
     "output_type": "display_data"
    }
   ],
   "source": [
    "import matplotlib.pyplot as plt\n",
    "from pyspark.sql import functions as F\n",
    "\n",
    "null_counts = flights_temp_df.select(\n",
    "    [F.count(F.when(F.col(c).isNull(), c)).alias(c) for c in flights_temp_df.columns]\n",
    ").toPandas().T\n",
    "null_counts.columns = ['null_count']\n",
    "null_counts = null_counts.reset_index().rename(columns={'index': 'column'})\n",
    "\n",
    "plt.figure(figsize=(10,6))\n",
    "plt.bar(null_counts['column'], null_counts['null_count'])\n",
    "plt.xlabel('Column')\n",
    "plt.ylabel('Null Count')\n",
    "plt.title('Nulls per Column in flights_temp_df')\n",
    "plt.xticks(rotation=45)\n",
    "plt.tight_layout()\n",
    "plt.show()"
   ]
  },
  {
   "cell_type": "markdown",
   "metadata": {
    "application/vnd.databricks.v1+cell": {
     "cellMetadata": {},
     "inputWidgets": {},
     "nuid": "a1813f14-be77-4f21-879c-ef5c11f4bc94",
     "showTitle": false,
     "tableResultSettingsMap": {},
     "title": ""
    }
   },
   "source": [
    "## Data Cleaning\n",
    "---"
   ]
  },
  {
   "cell_type": "code",
   "execution_count": 0,
   "metadata": {
    "application/vnd.databricks.v1+cell": {
     "cellMetadata": {
      "byteLimit": 2048000,
      "rowLimit": 10000
     },
     "inputWidgets": {},
     "nuid": "1e7abc99-38db-4bc3-b85f-bba027ee9882",
     "showTitle": false,
     "tableResultSettingsMap": {},
     "title": ""
    }
   },
   "outputs": [
    {
     "output_type": "display_data",
     "data": {
      "text/html": [
       "<style scoped>\n",
       "  .table-result-container {\n",
       "    max-height: 300px;\n",
       "    overflow: auto;\n",
       "  }\n",
       "  table, th, td {\n",
       "    border: 1px solid black;\n",
       "    border-collapse: collapse;\n",
       "  }\n",
       "  th, td {\n",
       "    padding: 5px;\n",
       "  }\n",
       "  th {\n",
       "    text-align: left;\n",
       "  }\n",
       "</style><div class='table-result-container'><table class='table-result'><thead style='background-color: white'><tr><th>ID</th><th>Year</th><th>Month</th><th>Day</th><th>DepTime</th><th>SchedDepTime</th><th>DepDelay</th><th>ArrTime</th><th>SchedArrTime</th><th>ArrDelay</th><th>Carrier</th><th>Flight</th><th>TailNum</th><th>Origin</th><th>Dest</th><th>AirTime</th><th>Distance</th></tr></thead><tbody><tr><td>0</td><td>2013</td><td>1</td><td>1</td><td>517</td><td>515</td><td>2.0</td><td>830</td><td>819</td><td>11.0</td><td>UA</td><td>1545</td><td>N14228</td><td>EWR</td><td>IAH</td><td>227.0</td><td>1400</td></tr><tr><td>1</td><td>2013</td><td>1</td><td>1</td><td>533</td><td>529</td><td>4.0</td><td>850</td><td>830</td><td>20.0</td><td>UA</td><td>1714</td><td>N24211</td><td>LGA</td><td>IAH</td><td>227.0</td><td>1416</td></tr><tr><td>2</td><td>2013</td><td>1</td><td>1</td><td>542</td><td>540</td><td>2.0</td><td>923</td><td>850</td><td>33.0</td><td>AA</td><td>1141</td><td>N619AA</td><td>JFK</td><td>MIA</td><td>160.0</td><td>1089</td></tr><tr><td>3</td><td>2013</td><td>1</td><td>1</td><td>544</td><td>545</td><td>-1.0</td><td>1004</td><td>1022</td><td>-18.0</td><td>B6</td><td>725</td><td>N804JB</td><td>JFK</td><td>BQN</td><td>183.0</td><td>1576</td></tr><tr><td>4</td><td>2013</td><td>1</td><td>1</td><td>554</td><td>600</td><td>-6.0</td><td>812</td><td>837</td><td>-25.0</td><td>DL</td><td>461</td><td>N668DN</td><td>LGA</td><td>ATL</td><td>116.0</td><td>762</td></tr><tr><td>5</td><td>2013</td><td>1</td><td>1</td><td>554</td><td>558</td><td>-4.0</td><td>740</td><td>728</td><td>12.0</td><td>UA</td><td>1696</td><td>N39463</td><td>EWR</td><td>ORD</td><td>150.0</td><td>719</td></tr><tr><td>6</td><td>2013</td><td>1</td><td>1</td><td>555</td><td>600</td><td>-5.0</td><td>913</td><td>854</td><td>19.0</td><td>B6</td><td>507</td><td>N516JB</td><td>EWR</td><td>FLL</td><td>158.0</td><td>1065</td></tr><tr><td>7</td><td>2013</td><td>1</td><td>1</td><td>557</td><td>600</td><td>-3.0</td><td>709</td><td>723</td><td>-14.0</td><td>EV</td><td>5708</td><td>N829AS</td><td>LGA</td><td>IAD</td><td>53.0</td><td>229</td></tr><tr><td>8</td><td>2013</td><td>1</td><td>1</td><td>557</td><td>600</td><td>-3.0</td><td>838</td><td>846</td><td>-8.0</td><td>B6</td><td>79</td><td>N593JB</td><td>JFK</td><td>MCO</td><td>140.0</td><td>944</td></tr><tr><td>9</td><td>2013</td><td>1</td><td>1</td><td>558</td><td>600</td><td>-2.0</td><td>753</td><td>745</td><td>8.0</td><td>AA</td><td>301</td><td>N3ALAA</td><td>LGA</td><td>ORD</td><td>138.0</td><td>733</td></tr></tbody></table></div>"
      ]
     },
     "metadata": {
      "application/vnd.databricks.v1+output": {
       "addedWidgets": {},
       "aggData": [],
       "aggError": "",
       "aggOverflow": false,
       "aggSchema": [],
       "aggSeriesLimitReached": false,
       "aggType": "",
       "arguments": {},
       "columnCustomDisplayInfos": {},
       "data": [
        [
         0,
         2013,
         1,
         1,
         517,
         515,
         2.0,
         830,
         819,
         11.0,
         "UA",
         1545,
         "N14228",
         "EWR",
         "IAH",
         227.0,
         1400
        ],
        [
         1,
         2013,
         1,
         1,
         533,
         529,
         4.0,
         850,
         830,
         20.0,
         "UA",
         1714,
         "N24211",
         "LGA",
         "IAH",
         227.0,
         1416
        ],
        [
         2,
         2013,
         1,
         1,
         542,
         540,
         2.0,
         923,
         850,
         33.0,
         "AA",
         1141,
         "N619AA",
         "JFK",
         "MIA",
         160.0,
         1089
        ],
        [
         3,
         2013,
         1,
         1,
         544,
         545,
         -1.0,
         1004,
         1022,
         -18.0,
         "B6",
         725,
         "N804JB",
         "JFK",
         "BQN",
         183.0,
         1576
        ],
        [
         4,
         2013,
         1,
         1,
         554,
         600,
         -6.0,
         812,
         837,
         -25.0,
         "DL",
         461,
         "N668DN",
         "LGA",
         "ATL",
         116.0,
         762
        ],
        [
         5,
         2013,
         1,
         1,
         554,
         558,
         -4.0,
         740,
         728,
         12.0,
         "UA",
         1696,
         "N39463",
         "EWR",
         "ORD",
         150.0,
         719
        ],
        [
         6,
         2013,
         1,
         1,
         555,
         600,
         -5.0,
         913,
         854,
         19.0,
         "B6",
         507,
         "N516JB",
         "EWR",
         "FLL",
         158.0,
         1065
        ],
        [
         7,
         2013,
         1,
         1,
         557,
         600,
         -3.0,
         709,
         723,
         -14.0,
         "EV",
         5708,
         "N829AS",
         "LGA",
         "IAD",
         53.0,
         229
        ],
        [
         8,
         2013,
         1,
         1,
         557,
         600,
         -3.0,
         838,
         846,
         -8.0,
         "B6",
         79,
         "N593JB",
         "JFK",
         "MCO",
         140.0,
         944
        ],
        [
         9,
         2013,
         1,
         1,
         558,
         600,
         -2.0,
         753,
         745,
         8.0,
         "AA",
         301,
         "N3ALAA",
         "LGA",
         "ORD",
         138.0,
         733
        ]
       ],
       "datasetInfos": [],
       "dbfsResultPath": null,
       "isJsonSchema": true,
       "metadata": {},
       "overflow": false,
       "plotOptions": {
        "customPlotOptions": {},
        "displayType": "table",
        "pivotAggregation": null,
        "pivotColumns": null,
        "xColumns": null,
        "yColumns": null
       },
       "removedWidgets": [],
       "schema": [
        {
         "metadata": "{}",
         "name": "ID",
         "type": "\"long\""
        },
        {
         "metadata": "{}",
         "name": "Year",
         "type": "\"long\""
        },
        {
         "metadata": "{}",
         "name": "Month",
         "type": "\"long\""
        },
        {
         "metadata": "{}",
         "name": "Day",
         "type": "\"long\""
        },
        {
         "metadata": "{}",
         "name": "DepTime",
         "type": "\"integer\""
        },
        {
         "metadata": "{}",
         "name": "SchedDepTime",
         "type": "\"long\""
        },
        {
         "metadata": "{}",
         "name": "DepDelay",
         "type": "\"double\""
        },
        {
         "metadata": "{}",
         "name": "ArrTime",
         "type": "\"integer\""
        },
        {
         "metadata": "{}",
         "name": "SchedArrTime",
         "type": "\"long\""
        },
        {
         "metadata": "{}",
         "name": "ArrDelay",
         "type": "\"double\""
        },
        {
         "metadata": "{}",
         "name": "Carrier",
         "type": "\"string\""
        },
        {
         "metadata": "{}",
         "name": "Flight",
         "type": "\"long\""
        },
        {
         "metadata": "{}",
         "name": "TailNum",
         "type": "\"string\""
        },
        {
         "metadata": "{}",
         "name": "Origin",
         "type": "\"string\""
        },
        {
         "metadata": "{}",
         "name": "Dest",
         "type": "\"string\""
        },
        {
         "metadata": "{}",
         "name": "AirTime",
         "type": "\"double\""
        },
        {
         "metadata": "{}",
         "name": "Distance",
         "type": "\"long\""
        }
       ],
       "type": "table"
      }
     },
     "output_type": "display_data"
    }
   ],
   "source": [
    "display(flights_temp_df.limit(10))"
   ]
  },
  {
   "cell_type": "code",
   "execution_count": 0,
   "metadata": {
    "application/vnd.databricks.v1+cell": {
     "cellMetadata": {
      "byteLimit": 2048000,
      "rowLimit": 10000
     },
     "inputWidgets": {},
     "nuid": "f14cd128-4e9b-4af7-9da8-5d788f002607",
     "showTitle": false,
     "tableResultSettingsMap": {},
     "title": ""
    }
   },
   "outputs": [],
   "source": [
    "# Dropping rows where any specified columns are null with `na.drop`\n",
    "non_null_flights_temp_df = flights_temp_df.na.drop(\n",
    "    how=\"any\",\n",
    "    subset=[\"DepTime\"]\n",
    ")"
   ]
  },
  {
   "cell_type": "code",
   "execution_count": 0,
   "metadata": {
    "application/vnd.databricks.v1+cell": {
     "cellMetadata": {
      "byteLimit": 2048000,
      "rowLimit": 10000
     },
     "inputWidgets": {},
     "nuid": "63ba0c7e-00ab-466e-9d3e-1b90b4544fce",
     "showTitle": false,
     "tableResultSettingsMap": {},
     "title": ""
    }
   },
   "outputs": [],
   "source": [
    "from pyspark.sql.functions import col\n",
    "\n",
    "# Removing rows with invalid values for \"DepTime\", \"DepDelay\" and \"ArrTime\" columns\n",
    "flights_with_valid_data = non_null_flights_temp_df.filter(\n",
    "    col(\"DepTime\").cast(\"integer\").isNotNull() &\n",
    "    col(\"DepDelay\").cast(\"integer\").isNotNull() &\n",
    "    col(\"ArrTime\").cast(\"integer\").isNotNull()\n",
    ")"
   ]
  },
  {
   "cell_type": "code",
   "execution_count": 0,
   "metadata": {
    "application/vnd.databricks.v1+cell": {
     "cellMetadata": {
      "byteLimit": 2048000,
      "rowLimit": 10000
     },
     "inputWidgets": {},
     "nuid": "f2c46937-ebd6-46c5-9ca8-409176dac2a1",
     "showTitle": false,
     "tableResultSettingsMap": {},
     "title": ""
    }
   },
   "outputs": [
    {
     "output_type": "stream",
     "name": "stdout",
     "output_type": "stream",
     "text": [
      "root\n |-- ID: long (nullable = true)\n |-- Year: long (nullable = true)\n |-- Month: long (nullable = true)\n |-- Day: long (nullable = true)\n |-- DepTime: integer (nullable = true)\n |-- SchedDepTime: long (nullable = true)\n |-- DepDelay: integer (nullable = true)\n |-- ArrTime: integer (nullable = true)\n |-- SchedArrTime: long (nullable = true)\n |-- ArrDelay: double (nullable = true)\n |-- Carrier: string (nullable = true)\n |-- Flight: long (nullable = true)\n |-- TailNum: string (nullable = true)\n |-- Origin: string (nullable = true)\n |-- Dest: string (nullable = true)\n |-- AirTime: double (nullable = true)\n |-- Distance: long (nullable = true)\n\n"
     ]
    }
   ],
   "source": [
    "# Now that we know that the columns above contain integer values only, we can cast them to integers\n",
    "clean_flights_df = flights_with_valid_data \\\n",
    "    .withColumn(\"DepTime\", col(\"DepTime\").cast(\"integer\")) \\\n",
    "    .withColumn(\"DepDelay\", col(\"DepDelay\").cast(\"integer\"))\n",
    "\n",
    "clean_flights_df.printSchema()"
   ]
  },
  {
   "cell_type": "markdown",
   "metadata": {
    "application/vnd.databricks.v1+cell": {
     "cellMetadata": {},
     "inputWidgets": {},
     "nuid": "219ab82f-a3cb-4a59-9bd5-28476b6e5ffd",
     "showTitle": false,
     "tableResultSettingsMap": {},
     "title": ""
    }
   },
   "source": [
    "## Data Enrichment\n",
    "---\n",
    "\n",
    "Creating useful information using available columns"
   ]
  },
  {
   "cell_type": "code",
   "execution_count": 0,
   "metadata": {
    "application/vnd.databricks.v1+cell": {
     "cellMetadata": {},
     "inputWidgets": {},
     "nuid": "4446a216-e20e-465f-9c93-ca8ebbb2b768",
     "showTitle": false,
     "tableResultSettingsMap": {},
     "title": ""
    }
   },
   "outputs": [],
   "source": []
  },
  {
   "cell_type": "code",
   "execution_count": 0,
   "metadata": {
    "application/vnd.databricks.v1+cell": {
     "cellMetadata": {},
     "inputWidgets": {},
     "nuid": "876990d8-40c6-4b57-9e09-a061dc2ffd74",
     "showTitle": false,
     "tableResultSettingsMap": {},
     "title": ""
    }
   },
   "outputs": [],
   "source": []
  }
 ],
 "metadata": {
  "application/vnd.databricks.v1+notebook": {
   "computePreferences": {
    "hardware": {
     "accelerator": null,
     "gpuPoolId": null,
     "memory": "HIGH"
    }
   },
   "dashboards": [],
   "environmentMetadata": {
    "base_environment": "",
    "environment_version": "3"
   },
   "inputWidgetPreferences": null,
   "language": "python",
   "notebookMetadata": {
    "mostRecentlyExecutedCommandWithImplicitDF": {
     "commandId": 5250032088097646,
     "dataframes": [
      "_sqldf"
     ]
    },
    "pythonIndentUnit": 4
   },
   "notebookName": "Demo: Flight Data ETL with the DataFrame API\"",
   "widgets": {}
  },
  "language_info": {
   "name": "python"
  }
 },
 "nbformat": 4,
 "nbformat_minor": 0
}